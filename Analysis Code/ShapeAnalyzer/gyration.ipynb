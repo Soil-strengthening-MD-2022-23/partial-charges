{
  "nbformat": 4,
  "nbformat_minor": 0,
  "metadata": {
    "colab": {
      "name": "gyration.ipynb",
      "provenance": [],
      "collapsed_sections": []
    },
    "kernelspec": {
      "name": "python3",
      "display_name": "Python 3"
    },
    "language_info": {
      "name": "python"
    }
  },
  "cells": [
    {
      "cell_type": "code",
      "source": [
        "import sys\n",
        "import numpy as np\n",
        "import math"
      ],
      "metadata": {
        "id": "OJehizIGOomR"
      },
      "execution_count": null,
      "outputs": []
    },
    {
      "cell_type": "code",
      "execution_count": null,
      "metadata": {
        "id": "22NOIjcQN7A8"
      },
      "outputs": [],
      "source": [
        "def get_gyration_matrix(cluster):\n",
        "    # Moment of gyration tensor.\n",
        "    COMCluster = translate_to_com(cluster)\n",
        "    # replace with np.sum is better, but idk how\n",
        "    Ixx = 0\n",
        "    Iyy = 0\n",
        "    Izz = 0\n",
        "    Ixy = 0\n",
        "    Iyz = 0\n",
        "    Ixz = 0\n",
        "    for position in COMCluster:\n",
        "      Ixx += position[0]**2\n",
        "      Iyy += position[1]**2\n",
        "      Izz += position[2]**2\n",
        "      Ixy += position[0]*position[1]\n",
        "      Iyz += position[1]*position[2]\n",
        "      Ixz += position[0]*position[2]\n",
        "    Ixx /= len(cluster)\n",
        "    Iyy /= len(cluster)\n",
        "    Izz /= len(cluster)\n",
        "    Ixy /= len(cluster)\n",
        "    Iyz /= len(cluster)\n",
        "    Ixz /= len(cluster)\n",
        "    I = np.array([[Ixx, Ixy, Ixz], [Ixy, Iyy, Iyz], [Ixz, Iyz, Izz]])\n",
        "    return I\n",
        "\n",
        "def get_principal_gyration(I):\n",
        "    Ip = np.linalg.eigvals(I)\n",
        "    Ip.sort()\n",
        "    return [math.sqrt(Ip[0]), math.sqrt(Ip[1]), math.sqrt(Ip[2])]\n",
        "\n",
        "def normalize(lambdas): #assume 3 element array!\n",
        "    preFactor = 1 / (math.sqrt(lambdas[0]**2 + lambdas[1]**2 + lambdas[2]**2))\n",
        "    return np.dot(preFactor, lambdas)\n",
        "\n",
        "def asphericity(lambdas): #assume 3 element array is sorted\n",
        "    return ((lambdas[2])**2 - 1/2 * ((lambdas[0])**2 + (lambdas[1])**2))\n",
        "\n",
        "def acylindricity(lambdas):\n",
        "    return (lambdas[1])**2 - lambdas[0]**2\n",
        "\n",
        "def anisotropy(lambdas):\n",
        "    return (3/2 * (lambdas[0]**4 + lambdas[1] ** 4 + lambdas[2] ** 4)/(lambdas[0]**2 + lambdas[1]**2 + lambdas[2]**2)**2 - 1/2)\n",
        "\n",
        "def unwrap(cluster):\n",
        "\n",
        "    coord1 = 0.0\n",
        "    coord2 = 33.0\n",
        "    boxLength = coord2 - coord1\n",
        "    coordCenter = (coord1 + coord2)/2\n",
        "\n",
        "    flipX = True #check if we need to flip x. if any point is within somoe distance of the middle of a dimension, dont flip \n",
        "    flipY = True\n",
        "    flipZ = True\n",
        "\n",
        "    for position in cluster:\n",
        "      if abs(position[0] - coordCenter) < 1.12: #arbitrary cutoff\n",
        "        flipX = False\n",
        "      if abs(position[1] - coordCenter) < 1.12: #arbitrary cutoff\n",
        "        flipY = False\n",
        "      if abs(position[2] - coordCenter) < 1.12: #arbitrary cutoff\n",
        "        flipZ = False\n",
        "\n",
        "    for position in cluster:\n",
        "      if (position[0] > coordCenter) and flipX:\n",
        "        position[0] = position[0] - boxLength\n",
        "      if (position[1] > coordCenter) and flipY:\n",
        "        position[1] = position[1] - boxLength\n",
        "      if (position[2] > coordCenter) and flipZ:\n",
        "        position[2] = position[2] - boxLength\n",
        "\n",
        "def translate_to_com(cluster):\n",
        "    comX = 0\n",
        "    comY = 0\n",
        "    comZ = 0\n",
        "    for position in cluster:\n",
        "      comX += position[0]\n",
        "      comY += position[1]\n",
        "      comZ += position[2]\n",
        "    comX /= len(cluster)\n",
        "    comY /= len(cluster)\n",
        "    comZ /= len(cluster)\n",
        "    COMCluster = []\n",
        "    for position in cluster:\n",
        "        COMCluster.append([position[0] - comX, position[1] - comY, position[2] - comZ])\n",
        "    return COMCluster"
      ]
    },
    {
      "cell_type": "markdown",
      "source": [
        "Import the .xyz of a single timestep, as well as unwrap.\n",
        "\n"
      ],
      "metadata": {
        "id": "BRvrk-AElTgd"
      }
    },
    {
      "cell_type": "code",
      "source": [
        "    f = input('Enter name of XYZ file:  ') \n",
        "    xyz = open(f)\n",
        "    N = int(xyz.readline())\n",
        "    header = xyz.readline()\n",
        "    # define clusters\n",
        "    O = []\n",
        "    N = []\n",
        "    C = []\n",
        "    S = []\n",
        "    P = []\n",
        "    Z = []\n",
        "    # atom_symbol, coords = ([] for i in range (2))\n",
        "    for line in xyz:\n",
        "        atom,x,y,z = line.split()\n",
        "        if atom == 'O':\n",
        "            O.append([float(x), float(y), float(z)])\n",
        "        if atom == 'N':\n",
        "            N.append([float(x), float(y), float(z)])\n",
        "        if atom == 'C':\n",
        "            C.append([float(x), float(y), float(z)])\n",
        "        if atom == 'S':\n",
        "            S.append([float(x), float(y), float(z)])\n",
        "        if atom == 'P':\n",
        "            P.append([float(x), float(y), float(z)])\n",
        "        if atom == 'Z':\n",
        "            Z.append([float(x), float(y), float(z)])\n",
        "    xyz.close()"
      ],
      "metadata": {
        "id": "VXVnjt4COvVm",
        "colab": {
          "base_uri": "https://localhost:8080/"
        },
        "outputId": "07882d99-0fde-483c-a698-8e97aa0d69b6"
      },
      "execution_count": null,
      "outputs": [
        {
          "name": "stdout",
          "output_type": "stream",
          "text": [
            "Enter name of XYZ file:  input.xyz\n"
          ]
        }
      ]
    },
    {
      "cell_type": "code",
      "source": [
        "output = open(\"output.txt\", \"w\")\n",
        "\n",
        "def process(cluster):\n",
        "    unwrap(cluster)\n",
        "    unNormalizedLambdas = get_principal_gyration(get_gyration_matrix(cluster))\n",
        "    output.write(\"Unnormalized Lambdas: {} {} {}\\n\".format(unNormalizedLambdas[0], unNormalizedLambdas[1], unNormalizedLambdas[2]))\n",
        "    normalizedLambdas = normalize(unNormalizedLambdas)\n",
        "    output.write(\"Normalized Lambdas: {} {} {}\\n\".format(normalizedLambdas[0], normalizedLambdas[1], normalizedLambdas[2]))\n",
        "    output.write(\"Asphericity: {}\\n\".format(asphericity(normalizedLambdas)))\n",
        "    output.write(\"Acylindricity: {}\\n\".format(acylindricity(normalizedLambdas)))\n",
        "    output.write(\"Relative Shape Anisotropy: {}\\n\".format(anisotropy(normalizedLambdas)))\n",
        "\n",
        "\n",
        "output.write(\"--------- Cluster O ----------\\n\")\n",
        "process(O)\n",
        "output.write(\"--------- Cluster N ----------\\n\")\n",
        "process(N)\n",
        "output.write(\"--------- Cluster C ----------\\n\")\n",
        "process(C)\n",
        "output.write(\"--------- Cluster S ----------\\n\")\n",
        "process(S)\n",
        "output.write(\"--------- Cluster P ----------\\n\")\n",
        "process(P)\n",
        "output.write(\"--------- Cluster Z ----------\\n\")\n",
        "process(Z)\n",
        "\n",
        "output.close()"
      ],
      "metadata": {
        "id": "4piH38NhCw1t"
      },
      "execution_count": null,
      "outputs": []
    },
    {
      "cell_type": "markdown",
      "source": [
        ""
      ],
      "metadata": {
        "id": "TbHE1x4aN4WX"
      }
    }
  ]
}