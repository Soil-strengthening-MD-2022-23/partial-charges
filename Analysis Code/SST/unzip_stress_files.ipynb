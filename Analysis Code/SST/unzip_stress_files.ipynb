{
 "cells": [
  {
   "cell_type": "code",
   "execution_count": 1,
   "metadata": {},
   "outputs": [],
   "source": [
    "import pandas as pd"
   ]
  },
  {
   "cell_type": "markdown",
   "metadata": {},
   "source": [
    "In lines 1, 5, 9, 13, change the absolute path to the stress.out file input.\n",
    "\n",
    "In lines 3, 7, 11, 15, change the absolute path to the stressXXf.txt file output where XX is the filler concentration."
   ]
  },
  {
   "cell_type": "code",
   "execution_count": 2,
   "metadata": {},
   "outputs": [],
   "source": [
    "df1 = pd.read_csv(\"/media/jbzhang/Windows/Users/jerry/Documents/Summer 2022/Garcia/Multi-scale Modeling/Coulombic-LJ/Data/q2/25f_q2_res/SST/stress.out\", sep='\\s+', header=None,index_col=False,names=['s_xx', 's_yy', 's_zz', 'n_stress'], usecols=['n_stress'], skiprows=1)\n",
    "df1['n_stress'] = df1['n_stress'] * (-1)\n",
    "df1['n_stress'].to_csv('/media/jbzhang/Windows/Users/jerry/Documents/Summer 2022/Garcia/Multi-scale Modeling/Coulombic-LJ/Data/q2/25f_q2_res/SST/stress25f.txt', sep=' ',header=False, index=False, float_format='%.6f')\n",
    "\n",
    "df2 = pd.read_csv(\"/media/jbzhang/Windows/Users/jerry/Documents/Summer 2022/Garcia/Multi-scale Modeling/Coulombic-LJ/Data/q2/50f_q2_res/SST/stress.out\", sep='\\s+', header=None,index_col=False,names=['s_xx', 's_yy', 's_zz', 'n_stress'], usecols=['n_stress'], skiprows=1)\n",
    "df2['n_stress'] = df2['n_stress'] * (-1)\n",
    "df2['n_stress'].to_csv('/media/jbzhang/Windows/Users/jerry/Documents/Summer 2022/Garcia/Multi-scale Modeling/Coulombic-LJ/Data/q2/50f_q2_res/SST/stress50f.txt', sep=' ',header=False, index=False, float_format='%.6f')\n",
    "\n",
    "df3 = pd.read_csv(\"/media/jbzhang/Windows/Users/jerry/Documents/Summer 2022/Garcia/Multi-scale Modeling/Coulombic-LJ/Data/q2/75f_q2_res/SST/stress.out\", sep='\\s+', header=None,index_col=False,names=['s_xx', 's_yy', 's_zz', 'n_stress'], usecols=['n_stress'], skiprows=1)\n",
    "df3['n_stress'] = df3['n_stress'] * (-1)\n",
    "df3['n_stress'].to_csv('/media/jbzhang/Windows/Users/jerry/Documents/Summer 2022/Garcia/Multi-scale Modeling/Coulombic-LJ/Data/q2/75f_q2_res/SST/stress75f.txt', sep=' ',header=False, index=False, float_format='%.6f')\n",
    "\n",
    "df4 = pd.read_csv(\"/media/jbzhang/Windows/Users/jerry/Documents/Summer 2022/Garcia/Multi-scale Modeling/Coulombic-LJ/Data/q2/100f_q2_res/SST/stress.out\", sep='\\s+', header=None,index_col=False,names=['s_xx', 's_yy', 's_zz', 'n_stress'], usecols=['n_stress'], skiprows=1)\n",
    "df4['n_stress'] = df4['n_stress'] * (-1)\n",
    "df4['n_stress'].to_csv('/media/jbzhang/Windows/Users/jerry/Documents/Summer 2022/Garcia/Multi-scale Modeling/Coulombic-LJ/Data/q2/100f_q2_res/SST/stress100f.txt', sep=' ',header=False, index=False, float_format='%.6f')\n",
    "\n"
   ]
  },
  {
   "cell_type": "code",
   "execution_count": null,
   "metadata": {},
   "outputs": [],
   "source": []
  }
 ],
 "metadata": {
  "kernelspec": {
   "display_name": "Python 3.9.12 ('base')",
   "language": "python",
   "name": "python3"
  },
  "language_info": {
   "codemirror_mode": {
    "name": "ipython",
    "version": 3
   },
   "file_extension": ".py",
   "mimetype": "text/x-python",
   "name": "python",
   "nbconvert_exporter": "python",
   "pygments_lexer": "ipython3",
   "version": "3.9.12"
  },
  "vscode": {
   "interpreter": {
    "hash": "cc303f23acbaa1e19cb8e4559ca306729e93c6d9a2aee9f6be26e2676f1890f5"
   }
  }
 },
 "nbformat": 4,
 "nbformat_minor": 2
}
